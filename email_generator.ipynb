{
 "cells": [
  {
   "cell_type": "code",
   "execution_count": 1,
   "id": "0eccd20e",
   "metadata": {},
   "outputs": [],
   "source": [
    "from langchain_groq import ChatGroq"
   ]
  },
  {
   "cell_type": "code",
   "execution_count": 2,
   "id": "c16ff50e",
   "metadata": {},
   "outputs": [
    {
     "name": "stdout",
     "output_type": "stream",
     "text": [
      "The first person to land on the moon was Neil Armstrong. He stepped out of the lunar module Eagle and onto the moon's surface on July 20, 1969, during the Apollo 11 mission. Armstrong famously declared, \"That's one small step for man, one giant leap for mankind,\" as he became the first human to set foot on the moon.\n"
     ]
    }
   ],
   "source": [
    "llm = ChatGroq(\n",
    "    temperature=0, \n",
    "    groq_api_key= 'Keep Groq API Key Here...', \n",
    "    model_name=\"llama-3.3-70b-versatile\"\n",
    ")\n",
    "response = llm.invoke(\"The first person to land on moon was ...\")\n",
    "print(response.content)"
   ]
  },
  {
   "cell_type": "code",
   "execution_count": 3,
   "id": "90d33612",
   "metadata": {},
   "outputs": [
    {
     "name": "stderr",
     "output_type": "stream",
     "text": [
      "USER_AGENT environment variable not set, consider setting it to identify your requests.\n"
     ]
    },
    {
     "name": "stdout",
     "output_type": "stream",
     "text": [
      "Apply for Lead AI/ML Engineer\n",
      "\n",
      "Search JobsSkip navigationSearch JobsNIKE, INC. JOBSContract JobsJoin The Talent CommunityLife @ NikeOverviewBenefitsBrandsOverviewJordanConverseTeamsOverviewAdministrative SupportAdvanced InnovationAir Manufacturing InnovationAviationCommunicationsCustomer ServiceDesignDigitalFacilitiesFinance & AccountingGovernment & Public AffairsHuman ResourcesInsights & AnalyticsLegalManufacturing & EngineeringMarketingMerchandisingPlanningPrivacyProcurementProduct Creation, Development & ManagementRetail CorporateRetail StoresSalesSocial & Community ImpactSports MarketingStrategic PlanningSupply Chain, Distribution & LogisticsSustainabilityTechnologyLocationsOverviewNike WHQNike New York HQEHQ: Hilversum, The NetherlandsELC: Laakdal, BelgiumGreater China HQDiversity, Equity & InclusionOverviewMilitary InclusionDisability InclusionIndigenous InclusionInternshipsData & AnalyticsLead AI/ML EngineerShanghai, China MainlandBecome a Part of the NIKE, Inc. Team\n",
      "NIKE, Inc. does more than outfit the world’s best athletes. It is a place to explore potential, obliterate boundaries and push out the edges of what can be. The company looks for people who can grow, think, dream and create. Its culture thrives by embracing diversity and rewarding imagination. The brand seeks achievers, leaders and visionaries. At NIKE, Inc. it’s about each person bringing skills and passion to a challenging and constantly evolving game.ABOUT THE ROLENow, more than ever, Technology needs to respond quickly to turn market disruptions into opportunities for our world-class brand. To achieve this, we must continue to develop our Enterprise Analytics, AI & Machine Learning capabilities and team to ensure we’re maximizing the power of the Nike enterprise in the analytics/machine learning space and managing data as a competitive advantage. If you’re ready to innovate and be a driving force for building solutions Enterprise Data and Analytics organization, come join us now! You will be part of an organization that is revolutionizing Nike technology platforms and architecting a data and analytics landscape that is simplified, modern, flexible and will ultimately enable Nike on its journey to beyond. WHAT YOU WILL WORK ON•     Work with business teams throughout the organization to identify complex and challenging issues to solve with AI technology.•  Build ML/AI prototypes in topics such as anomaly detection, demand forecast and demonstrate their benefits to product teams and business stakeholders•  Deploy AI powered applications in our data platform and monitor their business performances WHO WILL YOU WORK WITH You will be reporting to the Engineering manager, you will work with Product Manager, other Engineering Team Members and with a variety of talented Nike teammates. You will be part of team that will be a driving force in building Data and Analytic solutions for Nike Technology.  WHAT YOU BRING •           Bachelor’s or master’s degree in computer science or related subject area with 6+ experiences. •           3+ years of demonstrated professional experience in AIML especially in search & recommendation, generative AI area.•           Working experience with machine learning and deep learning frameworks like PyTorch, Tensorflow etc.•           Hands on experience on productize machine learning models, like model serving, model performance monitoring, model performance evaluation, models training & validation etc..•           Demonstrable ability to interpret, and implement methods described in research papers and articles in machine learning, deep learning, mathematical modeling and related fields.•           Strong understanding of data and analytics, including experience with Big Data, real time and batch data processing is preferred.•           Experience with cloud platforms (e.g., AWS, GCP) and able to containerize and deploy models to production.•           Strong problem solving and analytical mindset•           Effective communication skillsNIKE, Inc. is a growth company that looks for team members to grow with it. Nike offers a generous total rewards package, casual work environment, a diverse and inclusive culture, and an electric atmosphere for professional development. No matter the location, or the role, every Nike employee shares one galvanizing mission: To bring inspiration and innovation to every athlete* in the world.NIKE, Inc. is committed to employing a diverse workforce. Qualified applicants will receive consideration without regard to race, color, religion, sex, national origin, age, sexual orientation, gender identity, gender expression, veteran status, or disability.How We HireAt NIKE, Inc. we promise to provide a premium, inclusive, compelling and authentic candidate experience. Delivering on this promise means we allow you to be at your best — and to do that, you need to understand how the hiring process works. Transparency is key.\n",
      "\n",
      "* This overview explains our hiring process for corporate roles. Note there may be different hiring steps involved for non-corporate roles.Start nowBenefitsWhether it’s transportation or financial health, we continually invest in our employees to help them achieve greatness — inside and outside of work. All who work here should be able to realize their full potential.Employee Assistance ProgramHolidaysMedical PlanPaid Time Off (PTO)Product DiscountsLearn moreFIND A STOREBECOME A MEMBERSIGN UP FOR EMAILSEND US FEEDBACKSTUDENT DISCOUNTSGET HELPGET HELPOrder StatusDeliveryReturnsPayment OptionsContact Us On Nike.com InquiriesContact Us On All Other InquiriesABOUT NIKEABOUT NIKENewsCareersInvestorsSustainabilityIndia© 2025 Nike, Inc. All Rights ReservedGuidesNike AdaptNike Air MaxNike FlyleatherNike PegasusNike Zoom FlyNike AirNike FlyEaseNike FreeNike ReactNike ZoomXNike Air Force 1Nike FlyknitNike JoyrideNike VaporflyTerms of SaleTerms of UseNike Privacy Policy\n"
     ]
    }
   ],
   "source": [
    "from langchain_community.document_loaders import WebBaseLoader\n",
    "\n",
    "# update url if page not found\n",
    "loader = WebBaseLoader(\"https://jobs.nike.com/job/R-48983\")\n",
    "page_data = loader.load().pop().page_content\n",
    "print(page_data)\n",
    "# web scraping "
   ]
  },
  {
   "cell_type": "code",
   "execution_count": 4,
   "id": "85c89a57",
   "metadata": {},
   "outputs": [
    {
     "data": {
      "text/plain": [
       "str"
      ]
     },
     "execution_count": 4,
     "metadata": {},
     "output_type": "execute_result"
    }
   ],
   "source": [
    "from langchain_core.prompts import PromptTemplate\n",
    "\n",
    "prompt_extract = PromptTemplate.from_template(\n",
    "        \"\"\"\n",
    "        ### SCRAPED TEXT FROM WEBSITE:\n",
    "        {page_data}\n",
    "        ### INSTRUCTION:\n",
    "        The scraped text is from the career's page of a website.\n",
    "        Your job is to extract the job postings and return them in JSON format containing the \n",
    "        following keys: `role`, `experience`, `skills` and `description`.\n",
    "        Only return the valid JSON.\n",
    "        ### VALID JSON (NO PREAMBLE):    \n",
    "        \"\"\"\n",
    ")\n",
    "\n",
    "chain_extract = prompt_extract | llm \n",
    "# lang chain cahin using pipe operator '|' \n",
    "res = chain_extract.invoke(input={'page_data':page_data})\n",
    "# print(res.content)\n",
    "type(res.content)\n"
   ]
  },
  {
   "cell_type": "code",
   "execution_count": 5,
   "id": "c433eec5",
   "metadata": {},
   "outputs": [
    {
     "name": "stdout",
     "output_type": "stream",
     "text": [
      "```json\n",
      "{\n",
      "  \"role\": \"Lead AI/ML Engineer\",\n",
      "  \"experience\": \"6+ years, 3+ years of demonstrated professional experience in AI/ML\",\n",
      "  \"skills\": [\n",
      "    \"Machine learning and deep learning frameworks like PyTorch, Tensorflow\",\n",
      "    \"Big Data, real time and batch data processing\",\n",
      "    \"Cloud platforms (e.g., AWS, GCP)\",\n",
      "    \"Containerization and deployment of models to production\",\n",
      "    \"Strong problem solving and analytical mindset\",\n",
      "    \"Effective communication skills\"\n",
      "  ],\n",
      "  \"description\": \"Work with business teams to identify complex issues to solve with AI technology, build ML/AI prototypes, deploy AI powered applications, and monitor their business performances.\"\n",
      "}\n",
      "```\n"
     ]
    }
   ],
   "source": [
    "print(res.content)"
   ]
  },
  {
   "cell_type": "code",
   "execution_count": 6,
   "id": "5415fd54",
   "metadata": {},
   "outputs": [
    {
     "data": {
      "text/plain": [
       "{'role': 'Lead AI/ML Engineer',\n",
       " 'experience': '6+ years, 3+ years of demonstrated professional experience in AI/ML',\n",
       " 'skills': ['Machine learning and deep learning frameworks like PyTorch, Tensorflow',\n",
       "  'Big Data, real time and batch data processing',\n",
       "  'Cloud platforms (e.g., AWS, GCP)',\n",
       "  'Containerization and deployment of models to production',\n",
       "  'Strong problem solving and analytical mindset',\n",
       "  'Effective communication skills'],\n",
       " 'description': 'Work with business teams to identify complex issues to solve with AI technology, build ML/AI prototypes, deploy AI powered applications, and monitor their business performances.'}"
      ]
     },
     "execution_count": 6,
     "metadata": {},
     "output_type": "execute_result"
    }
   ],
   "source": [
    "from langchain_core.output_parsers import JsonOutputParser\n",
    "\n",
    "json_parser = JsonOutputParser()\n",
    "json_res = json_parser.parse(res.content)\n",
    "json_res\n",
    "# convert to json"
   ]
  },
  {
   "cell_type": "code",
   "execution_count": 7,
   "id": "39961ed6",
   "metadata": {},
   "outputs": [
    {
     "data": {
      "text/plain": [
       "dict"
      ]
     },
     "execution_count": 7,
     "metadata": {},
     "output_type": "execute_result"
    }
   ],
   "source": [
    "type(json_res)"
   ]
  },
  {
   "cell_type": "markdown",
   "id": "3daa19c1",
   "metadata": {},
   "source": [
    "### Prepare Chromadb"
   ]
  },
  {
   "cell_type": "code",
   "execution_count": 8,
   "id": "1e8a0f74",
   "metadata": {},
   "outputs": [
    {
     "data": {
      "text/html": [
       "<div>\n",
       "<style scoped>\n",
       "    .dataframe tbody tr th:only-of-type {\n",
       "        vertical-align: middle;\n",
       "    }\n",
       "\n",
       "    .dataframe tbody tr th {\n",
       "        vertical-align: top;\n",
       "    }\n",
       "\n",
       "    .dataframe thead th {\n",
       "        text-align: right;\n",
       "    }\n",
       "</style>\n",
       "<table border=\"1\" class=\"dataframe\">\n",
       "  <thead>\n",
       "    <tr style=\"text-align: right;\">\n",
       "      <th></th>\n",
       "      <th>Techstack</th>\n",
       "      <th>Links</th>\n",
       "    </tr>\n",
       "  </thead>\n",
       "  <tbody>\n",
       "    <tr>\n",
       "      <th>0</th>\n",
       "      <td>React, Node.js, MongoDB</td>\n",
       "      <td>https://example.com/react-portfolio</td>\n",
       "    </tr>\n",
       "    <tr>\n",
       "      <th>1</th>\n",
       "      <td>Angular,.NET, SQL Server</td>\n",
       "      <td>https://example.com/angular-portfolio</td>\n",
       "    </tr>\n",
       "    <tr>\n",
       "      <th>2</th>\n",
       "      <td>Vue.js, Ruby on Rails, PostgreSQL</td>\n",
       "      <td>https://example.com/vue-portfolio</td>\n",
       "    </tr>\n",
       "    <tr>\n",
       "      <th>3</th>\n",
       "      <td>Python, Django, MySQL</td>\n",
       "      <td>https://example.com/python-portfolio</td>\n",
       "    </tr>\n",
       "    <tr>\n",
       "      <th>4</th>\n",
       "      <td>Java, Spring Boot, Oracle</td>\n",
       "      <td>https://example.com/java-portfolio</td>\n",
       "    </tr>\n",
       "    <tr>\n",
       "      <th>5</th>\n",
       "      <td>Flutter, Firebase, GraphQL</td>\n",
       "      <td>https://example.com/flutter-portfolio</td>\n",
       "    </tr>\n",
       "    <tr>\n",
       "      <th>6</th>\n",
       "      <td>WordPress, PHP, MySQL</td>\n",
       "      <td>https://example.com/wordpress-portfolio</td>\n",
       "    </tr>\n",
       "    <tr>\n",
       "      <th>7</th>\n",
       "      <td>Magento, PHP, MySQL</td>\n",
       "      <td>https://example.com/magento-portfolio</td>\n",
       "    </tr>\n",
       "    <tr>\n",
       "      <th>8</th>\n",
       "      <td>React Native, Node.js, MongoDB</td>\n",
       "      <td>https://example.com/react-native-portfolio</td>\n",
       "    </tr>\n",
       "    <tr>\n",
       "      <th>9</th>\n",
       "      <td>iOS, Swift, Core Data</td>\n",
       "      <td>https://example.com/ios-portfolio</td>\n",
       "    </tr>\n",
       "    <tr>\n",
       "      <th>10</th>\n",
       "      <td>Android, Java, Room Persistence</td>\n",
       "      <td>https://example.com/android-portfolio</td>\n",
       "    </tr>\n",
       "    <tr>\n",
       "      <th>11</th>\n",
       "      <td>Kotlin, Android, Firebase</td>\n",
       "      <td>https://example.com/kotlin-android-portfolio</td>\n",
       "    </tr>\n",
       "    <tr>\n",
       "      <th>12</th>\n",
       "      <td>Android TV, Kotlin, Android NDK</td>\n",
       "      <td>https://example.com/android-tv-portfolio</td>\n",
       "    </tr>\n",
       "    <tr>\n",
       "      <th>13</th>\n",
       "      <td>iOS, Swift, ARKit</td>\n",
       "      <td>https://example.com/ios-ar-portfolio</td>\n",
       "    </tr>\n",
       "    <tr>\n",
       "      <th>14</th>\n",
       "      <td>Cross-platform, Xamarin, Azure</td>\n",
       "      <td>https://example.com/xamarin-portfolio</td>\n",
       "    </tr>\n",
       "    <tr>\n",
       "      <th>15</th>\n",
       "      <td>Backend, Kotlin, Spring Boot</td>\n",
       "      <td>https://example.com/kotlin-backend-portfolio</td>\n",
       "    </tr>\n",
       "    <tr>\n",
       "      <th>16</th>\n",
       "      <td>Frontend, TypeScript, Angular</td>\n",
       "      <td>https://example.com/typescript-frontend-portfolio</td>\n",
       "    </tr>\n",
       "    <tr>\n",
       "      <th>17</th>\n",
       "      <td>Full-stack, JavaScript, Express.js</td>\n",
       "      <td>https://example.com/full-stack-js-portfolio</td>\n",
       "    </tr>\n",
       "    <tr>\n",
       "      <th>18</th>\n",
       "      <td>Machine Learning, Python, TensorFlow</td>\n",
       "      <td>https://example.com/ml-python-portfolio</td>\n",
       "    </tr>\n",
       "    <tr>\n",
       "      <th>19</th>\n",
       "      <td>DevOps, Jenkins, Docker</td>\n",
       "      <td>https://example.com/devops-portfolio</td>\n",
       "    </tr>\n",
       "  </tbody>\n",
       "</table>\n",
       "</div>"
      ],
      "text/plain": [
       "                               Techstack  \\\n",
       "0                React, Node.js, MongoDB   \n",
       "1               Angular,.NET, SQL Server   \n",
       "2      Vue.js, Ruby on Rails, PostgreSQL   \n",
       "3                  Python, Django, MySQL   \n",
       "4              Java, Spring Boot, Oracle   \n",
       "5             Flutter, Firebase, GraphQL   \n",
       "6                  WordPress, PHP, MySQL   \n",
       "7                    Magento, PHP, MySQL   \n",
       "8         React Native, Node.js, MongoDB   \n",
       "9                  iOS, Swift, Core Data   \n",
       "10       Android, Java, Room Persistence   \n",
       "11             Kotlin, Android, Firebase   \n",
       "12       Android TV, Kotlin, Android NDK   \n",
       "13                     iOS, Swift, ARKit   \n",
       "14        Cross-platform, Xamarin, Azure   \n",
       "15          Backend, Kotlin, Spring Boot   \n",
       "16         Frontend, TypeScript, Angular   \n",
       "17    Full-stack, JavaScript, Express.js   \n",
       "18  Machine Learning, Python, TensorFlow   \n",
       "19               DevOps, Jenkins, Docker   \n",
       "\n",
       "                                                Links  \n",
       "0                 https://example.com/react-portfolio  \n",
       "1               https://example.com/angular-portfolio  \n",
       "2                   https://example.com/vue-portfolio  \n",
       "3                https://example.com/python-portfolio  \n",
       "4                  https://example.com/java-portfolio  \n",
       "5               https://example.com/flutter-portfolio  \n",
       "6             https://example.com/wordpress-portfolio  \n",
       "7               https://example.com/magento-portfolio  \n",
       "8          https://example.com/react-native-portfolio  \n",
       "9                   https://example.com/ios-portfolio  \n",
       "10              https://example.com/android-portfolio  \n",
       "11       https://example.com/kotlin-android-portfolio  \n",
       "12           https://example.com/android-tv-portfolio  \n",
       "13               https://example.com/ios-ar-portfolio  \n",
       "14              https://example.com/xamarin-portfolio  \n",
       "15       https://example.com/kotlin-backend-portfolio  \n",
       "16  https://example.com/typescript-frontend-portfolio  \n",
       "17        https://example.com/full-stack-js-portfolio  \n",
       "18            https://example.com/ml-python-portfolio  \n",
       "19               https://example.com/devops-portfolio  "
      ]
     },
     "execution_count": 8,
     "metadata": {},
     "output_type": "execute_result"
    }
   ],
   "source": [
    "import pandas as pd\n",
    "\n",
    "df = pd.read_csv(\"my_portfolio.csv\")\n",
    "df\n",
    "# this csv contains the portfolio links of each technology we offer in our company.\n"
   ]
  },
  {
   "cell_type": "markdown",
   "id": "6728f940",
   "metadata": {},
   "source": [
    "- whenever a jobpositing chromadb should go through requements and pull the relevent portfolio for us.."
   ]
  },
  {
   "cell_type": "code",
   "execution_count": null,
   "id": "f7e888d4",
   "metadata": {},
   "outputs": [],
   "source": [
    "import uuid\n",
    "import chromadb\n",
    "\n",
    "client = chromadb.PersistentClient('vectorstore')\n",
    "collection = client.get_or_create_collection(name=\"portfolio\")\n",
    "\n",
    "if not collection.count():\n",
    "    for _, row in df.iterrows():\n",
    "        collection.add(documents=row[\"Techstack\"],\n",
    "                       metadatas={\"links\": row[\"Links\"]},\n",
    "                       ids=[str(uuid.uuid4())])\n",
    "\n",
    "# iterate through df and add it to chroma db\n",
    "# metadat is links, Techstack is main doc.\n",
    "# uuids are unique id generation perpose, it is a linux, url concept"
   ]
  },
  {
   "cell_type": "code",
   "execution_count": 17,
   "id": "6be9516b",
   "metadata": {},
   "outputs": [
    {
     "data": {
      "text/plain": [
       "[[{'links': 'https://example.com/ml-python-portfolio'},\n",
       "  {'links': 'https://example.com/python-portfolio'}],\n",
       " [{'links': 'https://example.com/react-portfolio'},\n",
       "  {'links': 'https://example.com/react-native-portfolio'}]]"
      ]
     },
     "execution_count": 17,
     "metadata": {},
     "output_type": "execute_result"
    }
   ],
   "source": [
    "links = collection.query(query_texts=['experiance in python skills', ' experiance in react'], n_results=2).get('metadatas', [])\n",
    "links\n",
    "# this gets python related portfolios from database"
   ]
  },
  {
   "cell_type": "code",
   "execution_count": 19,
   "id": "1ccfd720",
   "metadata": {
    "scrolled": false
   },
   "outputs": [
    {
     "data": {
      "text/plain": [
       "['Machine learning and deep learning frameworks like PyTorch, Tensorflow',\n",
       " 'Productize machine learning models',\n",
       " 'Big Data, real time and batch data processing',\n",
       " 'Cloud platforms (e.g., AWS, GCP)',\n",
       " 'Containerize and deploy models to production',\n",
       " 'Strong problem solving and analytical mindset',\n",
       " 'Effective communication skills']"
      ]
     },
     "execution_count": 19,
     "metadata": {},
     "output_type": "execute_result"
    }
   ],
   "source": [
    "job = json_res\n",
    "job['skills']"
   ]
  },
  {
   "cell_type": "code",
   "execution_count": 21,
   "id": "8bd36844",
   "metadata": {},
   "outputs": [
    {
     "data": {
      "text/plain": [
       "{'role': 'Lead AI/ML Engineer',\n",
       " 'experience': '6+ years, 3+ years of demonstrated professional experience in AI/ML',\n",
       " 'skills': ['Machine learning and deep learning frameworks like PyTorch, Tensorflow',\n",
       "  'Productize machine learning models',\n",
       "  'Big Data, real time and batch data processing',\n",
       "  'Cloud platforms (e.g., AWS, GCP)',\n",
       "  'Containerize and deploy models to production',\n",
       "  'Strong problem solving and analytical mindset',\n",
       "  'Effective communication skills'],\n",
       " 'description': 'Work with business teams to identify complex and challenging issues to solve with AI technology, build ML/AI prototypes, deploy AI powered applications, and monitor their business performances'}"
      ]
     },
     "execution_count": 21,
     "metadata": {},
     "output_type": "execute_result"
    }
   ],
   "source": [
    "job"
   ]
  },
  {
   "cell_type": "code",
   "execution_count": 20,
   "id": "39ad2fa2",
   "metadata": {},
   "outputs": [
    {
     "data": {
      "text/plain": [
       "[[{'links': 'https://example.com/ml-python-portfolio'},\n",
       "  {'links': 'https://example.com/python-portfolio'}],\n",
       " [{'links': 'https://example.com/ml-python-portfolio'},\n",
       "  {'links': 'https://example.com/vue-portfolio'}],\n",
       " [{'links': 'https://example.com/ml-python-portfolio'},\n",
       "  {'links': 'https://example.com/ios-portfolio'}],\n",
       " [{'links': 'https://example.com/xamarin-portfolio'},\n",
       "  {'links': 'https://example.com/devops-portfolio'}],\n",
       " [{'links': 'https://example.com/devops-portfolio'},\n",
       "  {'links': 'https://example.com/kotlin-backend-portfolio'}],\n",
       " [{'links': 'https://example.com/ml-python-portfolio'},\n",
       "  {'links': 'https://example.com/angular-portfolio'}],\n",
       " [{'links': 'https://example.com/android-portfolio'},\n",
       "  {'links': 'https://example.com/ml-python-portfolio'}]]"
      ]
     },
     "execution_count": 20,
     "metadata": {},
     "output_type": "execute_result"
    }
   ],
   "source": [
    "links = collection.query(query_texts=job['skills'], n_results=2).get('metadatas', [])\n",
    "links\n",
    "# first initiate job below\n",
    "# this matches my shils with job we scarapped"
   ]
  },
  {
   "cell_type": "markdown",
   "id": "cfe31809",
   "metadata": {},
   "source": [
    "### Creating prompt for writing an email with all the data"
   ]
  },
  {
   "cell_type": "code",
   "execution_count": null,
   "id": "64a97dd2",
   "metadata": {},
   "outputs": [],
   "source": [
    "prompt_email = PromptTemplate.from_template(\n",
    "        \"\"\"\n",
    "        ### JOB DESCRIPTION:\n",
    "        {job_description}\n",
    "        \n",
    "        ### INSTRUCTION:\n",
    "        You are Krish, a business development executive at IT Firm. IT Firm is an AI & Software Consulting company dedicated to facilitating\n",
    "        the seamless integration of business processes through automated tools. \n",
    "        Over our experience, we have empowered numerous enterprises with tailored solutions, fostering scalability, \n",
    "        process optimization, cost reduction, and heightened overall efficiency. \n",
    "        Your job is to write a cold email to the client regarding the job mentioned above describing the capability of IT Firm \n",
    "        in fulfilling their needs.\n",
    "        Also add the most relevant ones from the following links to showcase IT Firm's portfolio: {link_list}\n",
    "        Remember you are Krish, BDE at IT Firm. \n",
    "        Do not provide a preamble.\n",
    "        ### EMAIL (NO PREAMBLE):\n",
    "        \n",
    "        \"\"\"\n",
    "        )\n",
    "\n",
    "chain_email = prompt_email | llm\n",
    "res = chain_email.invoke({\"job_description\": str(job), \"link_list\": links})\n",
    "print(res.content)"
   ]
  }
 ],
 "metadata": {
  "kernelspec": {
   "display_name": "llms",
   "language": "python",
   "name": "python3"
  },
  "language_info": {
   "codemirror_mode": {
    "name": "ipython",
    "version": 3
   },
   "file_extension": ".py",
   "mimetype": "text/x-python",
   "name": "python",
   "nbconvert_exporter": "python",
   "pygments_lexer": "ipython3",
   "version": "3.10.16"
  }
 },
 "nbformat": 4,
 "nbformat_minor": 5
}
